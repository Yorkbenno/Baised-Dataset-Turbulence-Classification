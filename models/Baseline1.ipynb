{
 "cells": [
  {
   "cell_type": "markdown",
   "metadata": {},
   "source": [
    "## Imports"
   ]
  },
  {
   "cell_type": "code",
   "execution_count": 1,
   "metadata": {},
   "outputs": [],
   "source": [
    "import numpy as np\n",
    "import pickle\n",
    "import os\n",
    "from MyDataset import MyDataset\n",
    "import torch\n",
    "import torch.nn as nn\n",
    "import torch.optim as optim\n",
    "import matplotlib.pyplot as plt\n",
    "from torchvision import transforms, models\n",
    "from torch.nn import functional as F\n",
    "from tqdm.auto import tqdm\n",
    "# from PIL import Image\n",
    "%matplotlib inline"
   ]
  },
  {
   "cell_type": "markdown",
   "metadata": {},
   "source": [
    "## Transform raw data"
   ]
  },
  {
   "cell_type": "code",
   "execution_count": 2,
   "metadata": {},
   "outputs": [],
   "source": [
    "pre_transform = transforms.Compose([\n",
    "    transforms.RandomHorizontalFlip(),\n",
    "    #transforms.ColorJitter(brightness=0.5, contrast=0.5, saturation=0.5),\n",
    "    #transforms.RandomCrop(200),\n",
    "    transforms.RandomVerticalFlip(),\n",
    "    transforms.Resize((224,224)),\n",
    "    transforms.ToTensor()\n",
    "])\n",
    "val_transform = transforms.Compose([\n",
    "    transforms.Resize((224,224)),\n",
    "    transforms.ToTensor()\n",
    "])"
   ]
  },
  {
   "cell_type": "markdown",
   "metadata": {},
   "source": [
    "## Load Data"
   ]
  },
  {
   "cell_type": "code",
   "execution_count": 3,
   "metadata": {},
   "outputs": [],
   "source": [
    "train_dataset = MyDataset(\"./train\",pre_transform)\n",
    "val_dataset = MyDataset(\"./validate\",val_transform)"
   ]
  },
  {
   "cell_type": "code",
   "execution_count": 4,
   "metadata": {},
   "outputs": [
    {
     "data": {
      "text/plain": [
       "1754"
      ]
     },
     "execution_count": 4,
     "metadata": {},
     "output_type": "execute_result"
    }
   ],
   "source": [
    "print(\"train data length: %d  valid data length % d\"%(len(train_dataset),len(val_dataset)))"
   ]
  },
  {
   "cell_type": "markdown",
   "metadata": {},
   "source": [
    "## Visualize Traning Data"
   ]
  },
  {
   "cell_type": "code",
   "execution_count": null,
   "metadata": {},
   "outputs": [],
   "source": [
    "img,label = train_dataset[0]\n",
    "if (label == 0):\n",
    "  print(\"This is class nil\")\n",
    "elif (label == 1):\n",
    "  print(\"This is class MOD\")\n",
    "else:\n",
    "  print(\"This is class SEV\")\n",
    "\n",
    "Band8 = img[0][:][:]\n",
    "Band12 = img[1][:][:]\n",
    "Band13 = img[2][:][:]\n",
    "Band14 = img[3][:][:]\n",
    "Band = [Band8,Band12,Band13,Band14]\n",
    "\n",
    "for i in range(1,5):\n",
    "    plt.subplot(2,2,i)\n",
    "    plt.imshow(Band[i-1])\n",
    "plt.show()"
   ]
  },
  {
   "cell_type": "code",
   "execution_count": null,
   "metadata": {},
   "outputs": [],
   "source": [
    "#Calculate the number of samples in differnet class\n",
    "train_nil_count = 0   ##591\n",
    "train_MOD_count = 0   ##839\n",
    "train_SEV_count = 0   ##324\n",
    "valid_nil_count = 0   ##192\n",
    "valid_MOD_count = 0   ##81\n",
    "valid_SEV_count = 0   ##33\n",
    "\n",
    "for i in range (0,1754):\n",
    "    #print(i)\n",
    "    img, label = train_dataset[i]\n",
    "    if (label == 0):\n",
    "        train_nil_count += 1\n",
    "    elif (label == 1):\n",
    "        train_MOD_count += 1\n",
    "    else:\n",
    "        train_SEV_count += 1\n",
    "print(\"train set has %d nil, %d MOD, %d SEV\" %(train_nil_count, train_MOD_count, train_SEV_count))\n",
    "\n",
    "for i in range (0,306):\n",
    "    #print(i)\n",
    "    img, label = val_dataset[i]\n",
    "    if (label == 0):\n",
    "        valid_nil_count += 1\n",
    "    elif (label == 1):\n",
    "        valid_MOD_count += 1\n",
    "    else:\n",
    "        valid_SEV_count += 1\n",
    "print(\"valid set has %d nil, %d MOD, %d SEV\" %(valid_nil_count, valid_MOD_count, valid_SEV_count))"
   ]
  },
  {
   "cell_type": "markdown",
   "metadata": {},
   "source": [
    "## Define Model & Loss"
   ]
  },
  {
   "cell_type": "code",
   "execution_count": 5,
   "metadata": {},
   "outputs": [],
   "source": [
    "class Net(nn.Module):\n",
    "    def __init__(self):\n",
    "        super(Net, self).__init__()\n",
    "        self.conv1 = nn.Conv2d(4, 16, 3, 1, 1)\n",
    "        self.conv2 = nn.Conv2d(16, 32, 3, 1, 1)\n",
    "        self.fc1 = nn.Linear(100352, 128)\n",
    "        self.fc2 = nn.Linear(128, 3)\n",
    "    \n",
    "    def forward(self, x):\n",
    "        # x's shape = N * 4 * 224 * 224, where N is batch size\n",
    "        x = self.conv1(x)\n",
    "        # x's shape = N * 16 * 224 * 224\n",
    "        x = F.relu(x)\n",
    "        # x's shape = N * 16 * 224 * 224\n",
    "        x = F.max_pool2d(x, 2)\n",
    "        # x's shape = N * 16 * 112 * 112\n",
    "        x = self.conv2(x)\n",
    "        # x's shape = N * 32 * 112 * 112\n",
    "        x = F.relu(x)\n",
    "        # x's shape = N * 32 * 112 * 112\n",
    "        x = F.max_pool2d(x, 2)\n",
    "        # x's shape = N * 32 * 56 * 56\n",
    "        x = torch.flatten(x, 1) # flat starts from the second dim\n",
    "        # x's shape = N * (32 * 56 * 56) = N * 100352\n",
    "        x = self.fc1(x)\n",
    "        # x's shape =  N * 128\n",
    "        x = F.relu(x)\n",
    "        # x's shape =  N * 128\n",
    "        x = self.fc2(x)\n",
    "        # x's shape =  N * 3\n",
    "        # output = F.log_softmax(x, dim=1)  # sometimes this is included in criterion\n",
    "        return x"
   ]
  },
  {
   "cell_type": "code",
   "execution_count": 6,
   "metadata": {},
   "outputs": [],
   "source": [
    "train_loader = torch.utils.data.DataLoader(train_dataset, batch_size=64, shuffle=True, pin_memory=False)\n",
    "val_loader = torch.utils.data.DataLoader(val_dataset, batch_size=64, shuffle=True, pin_memory=False)"
   ]
  },
  {
   "cell_type": "code",
   "execution_count": 7,
   "metadata": {},
   "outputs": [
    {
     "name": "stdout",
     "output_type": "stream",
     "text": [
      "Net(\n",
      "  (conv1): Conv2d(4, 16, kernel_size=(3, 3), stride=(1, 1), padding=(1, 1))\n",
      "  (conv2): Conv2d(16, 32, kernel_size=(3, 3), stride=(1, 1), padding=(1, 1))\n",
      "  (fc1): Linear(in_features=100352, out_features=128, bias=True)\n",
      "  (fc2): Linear(in_features=128, out_features=3, bias=True)\n",
      ")\n"
     ]
    }
   ],
   "source": [
    "model = Net()\n",
    "print(model)"
   ]
  },
  {
   "cell_type": "code",
   "execution_count": 8,
   "metadata": {},
   "outputs": [],
   "source": [
    "criterion = nn.CrossEntropyLoss()"
   ]
  },
  {
   "cell_type": "code",
   "execution_count": 9,
   "metadata": {},
   "outputs": [],
   "source": [
    "def compute_acc(outputs, targets):\n",
    "    preds = outputs.argmax(dim=1, keepdim=True)\n",
    "    return preds.eq(targets.view_as(preds)).sum().item() / targets.shape[0]"
   ]
  },
  {
   "cell_type": "code",
   "execution_count": 10,
   "metadata": {},
   "outputs": [],
   "source": [
    "def performance_eval(outputs, targets):\n",
    "    preds = outputs.argmax(dim=1, keepdim=False)\n",
    "    targets = targets.view_as(preds)\n",
    "    performance_dict = {\"NIL\":0.0,\"MOD\":0.0, \"SEV\":0.0 }\n",
    "    for i in range(3):\n",
    "        TP = targets[preds.eq(i)].eq(i).sum().item()\n",
    "        FP = (~targets[preds.eq(i)].eq(i)).sum().item()\n",
    "        FN = (~preds[targets.eq(i)].eq(i)).sum().item()\n",
    "        Precision =  torch.true_divide(TP,(TP + FP))\n",
    "        Recall = torch.true_divide(TP,(TP + FN))\n",
    "        F1 = torch.true_divide(2*(Precision*Recall),(Precision+Recall))\n",
    "        performance_dict[list(performance_dict.keys())[i]] = torch.tensor([Precision,Recall,F1])\n",
    "    return performance_dict"
   ]
  },
  {
   "cell_type": "code",
   "execution_count": 11,
   "metadata": {},
   "outputs": [],
   "source": [
    "class AverageMeter(object):\n",
    "    def __init__(self):\n",
    "        self.reset()\n",
    "        \n",
    "    def reset(self):\n",
    "        self.val = 0\n",
    "        self.avg = 0\n",
    "        self.sum = 0\n",
    "        self.cnt = 0\n",
    "        self.TP = torch.tensor([0,0,0])\n",
    "        self.FP = torch.tensor([0,0,0])\n",
    "        self.FN = torch.tensor([0,0,0])\n",
    "        \n",
    "    def update(self, val, outputs, targets, n=1):\n",
    "        self.val = val\n",
    "        self.sum += val * n\n",
    "        self.cnt += n\n",
    "        self.avg = self.sum / self.cnt\n",
    "        preds = outputs.argmax(dim=1, keepdim=True)\n",
    "        preds = preds.view(-1)\n",
    "        targets = targets.view(-1)\n",
    "        for i in range(3):\n",
    "            self.TP[i] += targets[preds.eq(i)].eq(i).sum().item()\n",
    "            self.FP[i] += (~targets[preds.eq(i)].eq(i)).sum().item()\n",
    "            self.FN[i] += (~preds[targets.eq(i)].eq(i)).sum().item()"
   ]
  },
  {
   "cell_type": "code",
   "execution_count": 12,
   "metadata": {},
   "outputs": [],
   "source": [
    "model = model.cuda()\n",
    "criterion = criterion.cuda()"
   ]
  },
  {
   "cell_type": "code",
   "execution_count": 13,
   "metadata": {},
   "outputs": [],
   "source": [
    "optimizer = optim.Adam(model.parameters(), lr=0.001)"
   ]
  },
  {
   "cell_type": "code",
   "execution_count": 14,
   "metadata": {},
   "outputs": [],
   "source": [
    "def train_one_epoch():\n",
    "    accs = AverageMeter()\n",
    "    for X, y in tqdm(train_loader, leave=False):\n",
    "        inputs = X.cuda()\n",
    "        targets = y.cuda()\n",
    "        #inputs = X\n",
    "        #targets = y\n",
    "        optimizer.zero_grad()\n",
    "        # forward\n",
    "        outputs = model(inputs)\n",
    "        loss = criterion(outputs, targets)\n",
    "        loss.backward()\n",
    "        optimizer.step()\n",
    "        accs.update(compute_acc(outputs, targets), outputs, targets, X.size(0))\n",
    "        \n",
    "    return accs"
   ]
  },
  {
   "cell_type": "code",
   "execution_count": 15,
   "metadata": {},
   "outputs": [
    {
     "data": {
      "application/vnd.jupyter.widget-view+json": {
       "model_id": "d17e1e213ce143abaa5478a40481037e",
       "version_major": 2,
       "version_minor": 0
      },
      "text/plain": [
       "HBox(children=(FloatProgress(value=0.0, max=10.0), HTML(value='')))"
      ]
     },
     "metadata": {},
     "output_type": "display_data"
    },
    {
     "data": {
      "application/vnd.jupyter.widget-view+json": {
       "model_id": "",
       "version_major": 2,
       "version_minor": 0
      },
      "text/plain": [
       "HBox(children=(FloatProgress(value=0.0, max=28.0), HTML(value='')))"
      ]
     },
     "metadata": {},
     "output_type": "display_data"
    },
    {
     "name": "stdout",
     "output_type": "stream",
     "text": [
      "epoch 0 acc: 0.5034207525655644 \n",
      "class NIL Precision 0.5660377144813538 Recall0.25380709767341614 F1 0.3504672646522522\n",
      "class MOD Precision 0.5094736814498901 Recall0.865315854549408 F1 0.6413427591323853\n",
      "class SEV Precision 0.109375 Recall0.021604938432574272 F1 0.036082472652196884\n"
     ]
    },
    {
     "data": {
      "application/vnd.jupyter.widget-view+json": {
       "model_id": "",
       "version_major": 2,
       "version_minor": 0
      },
      "text/plain": [
       "HBox(children=(FloatProgress(value=0.0, max=28.0), HTML(value='')))"
      ]
     },
     "metadata": {},
     "output_type": "display_data"
    },
    {
     "name": "stdout",
     "output_type": "stream",
     "text": [
      "epoch 1 acc: 0.5553021664766249 \n",
      "class NIL Precision 0.9927007555961609 Recall0.23011843860149384 F1 0.37362638115882874\n",
      "class MOD Precision 0.518243670463562 Recall0.9988080859184265 F1 0.682410478591919\n",
      "class SEV Precision nan Recall0.0 F1 nan\n"
     ]
    },
    {
     "data": {
      "application/vnd.jupyter.widget-view+json": {
       "model_id": "",
       "version_major": 2,
       "version_minor": 0
      },
      "text/plain": [
       "HBox(children=(FloatProgress(value=0.0, max=28.0), HTML(value='')))"
      ]
     },
     "metadata": {},
     "output_type": "display_data"
    },
    {
     "name": "stdout",
     "output_type": "stream",
     "text": [
      "epoch 2 acc: 0.5553021664766249 \n",
      "class NIL Precision 0.9856114983558655 Recall0.23181049525737762 F1 0.375342458486557\n",
      "class MOD Precision 0.5182662606239319 Recall0.9976162314414978 F1 0.6821516156196594\n",
      "class SEV Precision nan Recall0.0 F1 nan\n"
     ]
    },
    {
     "data": {
      "application/vnd.jupyter.widget-view+json": {
       "model_id": "",
       "version_major": 2,
       "version_minor": 0
      },
      "text/plain": [
       "HBox(children=(FloatProgress(value=0.0, max=28.0), HTML(value='')))"
      ]
     },
     "metadata": {},
     "output_type": "display_data"
    },
    {
     "name": "stdout",
     "output_type": "stream",
     "text": [
      "epoch 3 acc: 0.556442417331813 \n",
      "class NIL Precision 0.9659863710403442 Recall0.240270733833313 F1 0.38482385873794556\n",
      "class MOD Precision 0.5189794898033142 Recall0.9940405488014221 F1 0.6819297075271606\n",
      "class SEV Precision nan Recall0.0 F1 nan\n"
     ]
    },
    {
     "data": {
      "application/vnd.jupyter.widget-view+json": {
       "model_id": "",
       "version_major": 2,
       "version_minor": 0
      },
      "text/plain": [
       "HBox(children=(FloatProgress(value=0.0, max=28.0), HTML(value='')))"
      ]
     },
     "metadata": {},
     "output_type": "display_data"
    },
    {
     "name": "stdout",
     "output_type": "stream",
     "text": [
      "epoch 4 acc: 0.5621436716077537 \n",
      "class NIL Precision 0.8950276374816895 Recall0.27411168813705444 F1 0.4196891188621521\n",
      "class MOD Precision 0.5238397717475891 Recall0.9821215867996216 F1 0.683250367641449\n",
      "class SEV Precision nan Recall0.0 F1 nan\n"
     ]
    },
    {
     "data": {
      "application/vnd.jupyter.widget-view+json": {
       "model_id": "",
       "version_major": 2,
       "version_minor": 0
      },
      "text/plain": [
       "HBox(children=(FloatProgress(value=0.0, max=28.0), HTML(value='')))"
      ]
     },
     "metadata": {},
     "output_type": "display_data"
    },
    {
     "name": "stdout",
     "output_type": "stream",
     "text": [
      "epoch 5 acc: 0.5575826681870011 \n",
      "class NIL Precision 0.9664429426193237 Recall0.24365481734275818 F1 0.3891891539096832\n",
      "class MOD Precision 0.5196261405944824 Recall0.9940405488014221 F1 0.6824877262115479\n",
      "class SEV Precision nan Recall0.0 F1 nan\n"
     ]
    },
    {
     "data": {
      "application/vnd.jupyter.widget-view+json": {
       "model_id": "",
       "version_major": 2,
       "version_minor": 0
      },
      "text/plain": [
       "HBox(children=(FloatProgress(value=0.0, max=28.0), HTML(value='')))"
      ]
     },
     "metadata": {},
     "output_type": "display_data"
    },
    {
     "name": "stdout",
     "output_type": "stream",
     "text": [
      "epoch 6 acc: 0.5610034207525656 \n",
      "class NIL Precision 0.8888888955116272 Recall0.27072757482528687 F1 0.4150453805923462\n",
      "class MOD Precision 0.5235069990158081 Recall0.9821215867996216 F1 0.6829672455787659\n",
      "class SEV Precision nan Recall0.0 F1 nan\n"
     ]
    },
    {
     "data": {
      "application/vnd.jupyter.widget-view+json": {
       "model_id": "",
       "version_major": 2,
       "version_minor": 0
      },
      "text/plain": [
       "HBox(children=(FloatProgress(value=0.0, max=28.0), HTML(value='')))"
      ]
     },
     "metadata": {},
     "output_type": "display_data"
    },
    {
     "name": "stdout",
     "output_type": "stream",
     "text": [
      "epoch 7 acc: 0.5592930444697833 \n",
      "class NIL Precision 0.9151515364646912 Recall0.2554991543292999 F1 0.39947089552879333\n",
      "class MOD Precision 0.5223410725593567 Recall0.989272952079773 F1 0.6836901903152466\n",
      "class SEV Precision nan Recall0.0 F1 nan\n"
     ]
    },
    {
     "data": {
      "application/vnd.jupyter.widget-view+json": {
       "model_id": "",
       "version_major": 2,
       "version_minor": 0
      },
      "text/plain": [
       "HBox(children=(FloatProgress(value=0.0, max=28.0), HTML(value='')))"
      ]
     },
     "metadata": {},
     "output_type": "display_data"
    },
    {
     "name": "stdout",
     "output_type": "stream",
     "text": [
      "epoch 8 acc: 0.5610034207525656 \n",
      "class NIL Precision 0.9931972622871399 Recall0.24703891575336456 F1 0.3956639766693115\n",
      "class MOD Precision 0.5214685797691345 Recall0.9988080859184265 F1 0.6852003335952759\n",
      "class SEV Precision nan Recall0.0 F1 nan\n"
     ]
    },
    {
     "data": {
      "application/vnd.jupyter.widget-view+json": {
       "model_id": "",
       "version_major": 2,
       "version_minor": 0
      },
      "text/plain": [
       "HBox(children=(FloatProgress(value=0.0, max=28.0), HTML(value='')))"
      ]
     },
     "metadata": {},
     "output_type": "display_data"
    },
    {
     "name": "stdout",
     "output_type": "stream",
     "text": [
      "epoch 9 acc: 0.5672748004561003 \n",
      "class NIL Precision 0.9583333134651184 Recall0.27241963148117065 F1 0.42424243688583374\n",
      "class MOD Precision 0.5258511900901794 Recall0.9940405488014221 F1 0.6878350377082825\n",
      "class SEV Precision nan Recall0.0 F1 nan\n",
      "\n"
     ]
    }
   ],
   "source": [
    "model.train()\n",
    "history_acc = []\n",
    "for epoch in tqdm(range(10)):\n",
    "    accs = train_one_epoch()\n",
    "    print(\"epoch {} acc: {} \".format(epoch, accs.avg))\n",
    "    class_names = [\"NIL\",\"MOD\",\"SEV\"]\n",
    "    for i in range(3):\n",
    "        Precision =  torch.true_divide(accs.TP[i],(accs.TP[i] + accs.FP[i]))\n",
    "        Recall = torch.true_divide(accs.TP[i],(accs.TP[i] + accs.FN[i]))\n",
    "        F1 = torch.true_divide(2*(Precision*Recall),(Precision+Recall))\n",
    "        print(\"class {} Precision {} Recall{} F1 {}\".format(class_names[i],Precision,Recall,F1))\n",
    "    history_acc.append(accs)"
   ]
  },
  {
   "cell_type": "code",
   "execution_count": 16,
   "metadata": {},
   "outputs": [
    {
     "data": {
      "image/png": "[encoded data removed]",
      "text/plain": [
       "<Figure size 432x288 with 1 Axes>"
      ]
     },
     "metadata": {
      "needs_background": "light"
     },
     "output_type": "display_data"
    }
   ],
   "source": [
    "accuracy = []\n",
    "for accs in history_acc:\n",
    "    accuracy.append(accs.avg)\n",
    "plt.plot(range(10),accuracy)\n",
    "plt.title('model accuracy')\n",
    "plt.ylabel('accuracy')\n",
    "plt.xlabel('epoch')\n",
    "plt.legend(['train'], loc='upper left')\n",
    "plt.show()"
   ]
  },
  {
   "cell_type": "code",
   "execution_count": 17,
   "metadata": {},
   "outputs": [
    {
     "data": {
      "application/vnd.jupyter.widget-view+json": {
       "model_id": "",
       "version_major": 2,
       "version_minor": 0
      },
      "text/plain": [
       "HBox(children=(FloatProgress(value=0.0, max=5.0), HTML(value='')))"
      ]
     },
     "metadata": {},
     "output_type": "display_data"
    },
    {
     "name": "stdout",
     "output_type": "stream",
     "text": [
      "y actual: tensor([0, 0, 0, 1, 0, 0, 0, 0, 1, 1, 0, 0, 0, 1, 0, 0, 0, 0, 1, 0, 0, 0, 0, 0,\n",
      "        1, 0, 0, 0, 1, 0, 1, 0, 0, 1, 1, 0, 2, 2, 0, 0, 0, 0, 0, 1, 1, 0, 0, 2,\n",
      "        1, 0, 0, 0, 0, 1, 0, 1, 0, 0, 2, 2, 1, 0, 0, 1])\n",
      "tensor([[1],\n",
      "        [1],\n",
      "        [1],\n",
      "        [1],\n",
      "        [1],\n",
      "        [0],\n",
      "        [0],\n",
      "        [1],\n",
      "        [1],\n",
      "        [1],\n",
      "        [1],\n",
      "        [1],\n",
      "        [1],\n",
      "        [1],\n",
      "        [0],\n",
      "        [1],\n",
      "        [1],\n",
      "        [1],\n",
      "        [1],\n",
      "        [0],\n",
      "        [1],\n",
      "        [1],\n",
      "        [1],\n",
      "        [1],\n",
      "        [1],\n",
      "        [1],\n",
      "        [0],\n",
      "        [0],\n",
      "        [1],\n",
      "        [1],\n",
      "        [1],\n",
      "        [1],\n",
      "        [1],\n",
      "        [1],\n",
      "        [1],\n",
      "        [1],\n",
      "        [1],\n",
      "        [1],\n",
      "        [1],\n",
      "        [1],\n",
      "        [1],\n",
      "        [1],\n",
      "        [0],\n",
      "        [1],\n",
      "        [1],\n",
      "        [1],\n",
      "        [0],\n",
      "        [1],\n",
      "        [1],\n",
      "        [1],\n",
      "        [1],\n",
      "        [1],\n",
      "        [1],\n",
      "        [1],\n",
      "        [0],\n",
      "        [1],\n",
      "        [1],\n",
      "        [1],\n",
      "        [1],\n",
      "        [1],\n",
      "        [1],\n",
      "        [1],\n",
      "        [0],\n",
      "        [1]], device='cuda:0')\n",
      "Test Acc: 0.421875\n",
      "y actual: tensor([0, 0, 2, 2, 0, 1, 0, 1, 1, 0, 0, 0, 0, 1, 0, 0, 0, 0, 0, 1, 2, 0, 0, 0,\n",
      "        1, 0, 1, 1, 0, 0, 2, 0, 2, 0, 1, 1, 1, 2, 0, 0, 1, 0, 1, 2, 1, 0, 2, 0,\n",
      "        1, 0, 1, 0, 1, 0, 0, 0, 0, 0, 0, 0, 1, 0, 0, 0])\n",
      "tensor([[1],\n",
      "        [0],\n",
      "        [1],\n",
      "        [1],\n",
      "        [0],\n",
      "        [1],\n",
      "        [1],\n",
      "        [1],\n",
      "        [1],\n",
      "        [1],\n",
      "        [1],\n",
      "        [1],\n",
      "        [1],\n",
      "        [1],\n",
      "        [1],\n",
      "        [1],\n",
      "        [1],\n",
      "        [1],\n",
      "        [1],\n",
      "        [1],\n",
      "        [1],\n",
      "        [1],\n",
      "        [1],\n",
      "        [1],\n",
      "        [1],\n",
      "        [0],\n",
      "        [1],\n",
      "        [1],\n",
      "        [1],\n",
      "        [1],\n",
      "        [1],\n",
      "        [1],\n",
      "        [1],\n",
      "        [0],\n",
      "        [1],\n",
      "        [1],\n",
      "        [1],\n",
      "        [1],\n",
      "        [1],\n",
      "        [1],\n",
      "        [1],\n",
      "        [0],\n",
      "        [1],\n",
      "        [1],\n",
      "        [1],\n",
      "        [1],\n",
      "        [1],\n",
      "        [1],\n",
      "        [1],\n",
      "        [1],\n",
      "        [1],\n",
      "        [0],\n",
      "        [1],\n",
      "        [1],\n",
      "        [1],\n",
      "        [1],\n",
      "        [0],\n",
      "        [1],\n",
      "        [1],\n",
      "        [0],\n",
      "        [1],\n",
      "        [1],\n",
      "        [1],\n",
      "        [1]], device='cuda:0')\n",
      "Test Acc: 0.40625\n",
      "y actual: tensor([1, 1, 0, 2, 2, 2, 0, 0, 0, 0, 1, 1, 1, 1, 0, 1, 2, 0, 2, 0, 1, 0, 1, 0,\n",
      "        0, 1, 0, 0, 0, 1, 2, 0, 2, 0, 0, 1, 1, 1, 1, 0, 1, 0, 0, 2, 0, 0, 1, 0,\n",
      "        1, 0, 1, 0, 1, 0, 0, 1, 0, 0, 0, 0, 0, 0, 0, 0])\n",
      "tensor([[1],\n",
      "        [1],\n",
      "        [0],\n",
      "        [1],\n",
      "        [1],\n",
      "        [1],\n",
      "        [1],\n",
      "        [0],\n",
      "        [0],\n",
      "        [0],\n",
      "        [1],\n",
      "        [1],\n",
      "        [1],\n",
      "        [1],\n",
      "        [1],\n",
      "        [1],\n",
      "        [1],\n",
      "        [1],\n",
      "        [1],\n",
      "        [1],\n",
      "        [1],\n",
      "        [1],\n",
      "        [1],\n",
      "        [1],\n",
      "        [0],\n",
      "        [1],\n",
      "        [0],\n",
      "        [1],\n",
      "        [1],\n",
      "        [1],\n",
      "        [1],\n",
      "        [1],\n",
      "        [1],\n",
      "        [1],\n",
      "        [1],\n",
      "        [1],\n",
      "        [1],\n",
      "        [1],\n",
      "        [1],\n",
      "        [1],\n",
      "        [1],\n",
      "        [0],\n",
      "        [1],\n",
      "        [1],\n",
      "        [1],\n",
      "        [1],\n",
      "        [1],\n",
      "        [0],\n",
      "        [1],\n",
      "        [1],\n",
      "        [1],\n",
      "        [0],\n",
      "        [1],\n",
      "        [1],\n",
      "        [1],\n",
      "        [1],\n",
      "        [1],\n",
      "        [1],\n",
      "        [1],\n",
      "        [1],\n",
      "        [1],\n",
      "        [1],\n",
      "        [1],\n",
      "        [1]], device='cuda:0')\n",
      "Test Acc: 0.46875\n",
      "y actual: tensor([1, 1, 0, 2, 0, 0, 1, 0, 2, 0, 0, 1, 0, 0, 0, 0, 0, 0, 0, 0, 1, 0, 0, 0,\n",
      "        0, 0, 0, 0, 0, 0, 1, 0, 0, 0, 2, 1, 0, 1, 2, 0, 1, 1, 0, 1, 0, 1, 1, 1,\n",
      "        0, 0, 0, 0, 0, 0, 1, 0, 0, 1, 0, 0, 2, 0, 0, 2])\n",
      "tensor([[1],\n",
      "        [1],\n",
      "        [0],\n",
      "        [1],\n",
      "        [1],\n",
      "        [1],\n",
      "        [1],\n",
      "        [0],\n",
      "        [1],\n",
      "        [1],\n",
      "        [1],\n",
      "        [1],\n",
      "        [1],\n",
      "        [1],\n",
      "        [1],\n",
      "        [1],\n",
      "        [1],\n",
      "        [1],\n",
      "        [1],\n",
      "        [1],\n",
      "        [1],\n",
      "        [1],\n",
      "        [1],\n",
      "        [0],\n",
      "        [1],\n",
      "        [1],\n",
      "        [1],\n",
      "        [1],\n",
      "        [1],\n",
      "        [1],\n",
      "        [1],\n",
      "        [0],\n",
      "        [1],\n",
      "        [1],\n",
      "        [1],\n",
      "        [1],\n",
      "        [0],\n",
      "        [1],\n",
      "        [1],\n",
      "        [1],\n",
      "        [1],\n",
      "        [1],\n",
      "        [1],\n",
      "        [1],\n",
      "        [1],\n",
      "        [1],\n",
      "        [1],\n",
      "        [1],\n",
      "        [0],\n",
      "        [0],\n",
      "        [1],\n",
      "        [0],\n",
      "        [1],\n",
      "        [1],\n",
      "        [1],\n",
      "        [0],\n",
      "        [0],\n",
      "        [1],\n",
      "        [1],\n",
      "        [1],\n",
      "        [1],\n",
      "        [1],\n",
      "        [1],\n",
      "        [1]], device='cuda:0')\n",
      "Test Acc: 0.40625\n",
      "y actual: tensor([0, 0, 0, 0, 0, 0, 0, 1, 1, 2, 0, 0, 1, 0, 2, 0, 0, 0, 0, 0, 0, 0, 0, 2,\n",
      "        0, 0, 0, 2, 0, 1, 0, 0, 0, 0, 1, 0, 2, 0, 1, 0, 1, 1, 2, 0, 0, 0, 1, 0,\n",
      "        0, 0])\n",
      "tensor([[1],\n",
      "        [1],\n",
      "        [1],\n",
      "        [1],\n",
      "        [0],\n",
      "        [1],\n",
      "        [1],\n",
      "        [1],\n",
      "        [1],\n",
      "        [1],\n",
      "        [1],\n",
      "        [0],\n",
      "        [1],\n",
      "        [1],\n",
      "        [1],\n",
      "        [0],\n",
      "        [0],\n",
      "        [1],\n",
      "        [1],\n",
      "        [1],\n",
      "        [1],\n",
      "        [0],\n",
      "        [1],\n",
      "        [1],\n",
      "        [1],\n",
      "        [0],\n",
      "        [1],\n",
      "        [1],\n",
      "        [1],\n",
      "        [1],\n",
      "        [1],\n",
      "        [0],\n",
      "        [1],\n",
      "        [1],\n",
      "        [1],\n",
      "        [1],\n",
      "        [1],\n",
      "        [1],\n",
      "        [1],\n",
      "        [1],\n",
      "        [1],\n",
      "        [1],\n",
      "        [1],\n",
      "        [1],\n",
      "        [1],\n",
      "        [1],\n",
      "        [1],\n",
      "        [1],\n",
      "        [1],\n",
      "        [1]], device='cuda:0')\n",
      "Test Acc: 0.32\n"
     ]
    }
   ],
   "source": [
    "model.eval()\n",
    "for X, y in tqdm(val_loader, leave=False):\n",
    "    inputs = X.cuda()\n",
    "    outputs = model(inputs)\n",
    "    print(\"y actual:\",y)\n",
    "    print(outputs.argmax(dim=1, keepdim=True))\n",
    "    acc = compute_acc(outputs.cpu(), y)\n",
    "    print(f'Test Acc: {acc}')"
   ]
  },
  {
   "cell_type": "code",
   "execution_count": 49,
   "metadata": {},
   "outputs": [],
   "source": [
    "img, label = train_dataset.__getitem__(1700)"
   ]
  },
  {
   "cell_type": "code",
   "execution_count": 51,
   "metadata": {},
   "outputs": [
    {
     "data": {
      "text/plain": [
       "tensor([[[0.6549, 0.6510, 0.6510,  ..., 0.6314, 0.5765, 0.5765],\n",
       "         [0.6510, 0.6510, 0.6510,  ..., 0.5882, 0.5765, 0.5765],\n",
       "         [0.6196, 0.6196, 0.6196,  ..., 0.5765, 0.5765, 0.5765],\n",
       "         ...,\n",
       "         [0.4863, 0.4980, 0.5020,  ..., 0.5608, 0.5608, 0.5412],\n",
       "         [0.4941, 0.5020, 0.5059,  ..., 0.5608, 0.5608, 0.5412],\n",
       "         [0.5216, 0.5333, 0.5333,  ..., 0.5608, 0.5608, 0.5412]],\n",
       "\n",
       "        [[0.5490, 0.5294, 0.5255,  ..., 0.5412, 0.4941, 0.4941],\n",
       "         [0.5294, 0.5255, 0.5255,  ..., 0.4980, 0.4941, 0.4941],\n",
       "         [0.4980, 0.4980, 0.4980,  ..., 0.4941, 0.4941, 0.4941],\n",
       "         ...,\n",
       "         [0.5333, 0.5647, 0.5686,  ..., 0.6039, 0.6000, 0.5882],\n",
       "         [0.5608, 0.5804, 0.5843,  ..., 0.6039, 0.6000, 0.5882],\n",
       "         [0.6745, 0.6471, 0.6431,  ..., 0.6039, 0.6000, 0.5882]],\n",
       "\n",
       "        [[0.5490, 0.5294, 0.5255,  ..., 0.5412, 0.4941, 0.4941],\n",
       "         [0.5294, 0.5255, 0.5255,  ..., 0.4980, 0.4941, 0.4941],\n",
       "         [0.4980, 0.4980, 0.4980,  ..., 0.4941, 0.4941, 0.4941],\n",
       "         ...,\n",
       "         [0.5490, 0.5647, 0.5686,  ..., 0.6118, 0.6078, 0.5961],\n",
       "         [0.5765, 0.5804, 0.5843,  ..., 0.6118, 0.6078, 0.5961],\n",
       "         [0.6863, 0.6510, 0.6431,  ..., 0.6118, 0.6078, 0.5961]],\n",
       "\n",
       "        [[0.4706, 0.4431, 0.4392,  ..., 0.4902, 0.4196, 0.4196],\n",
       "         [0.4431, 0.4392, 0.4392,  ..., 0.4314, 0.4196, 0.4196],\n",
       "         [0.4157, 0.4157, 0.4157,  ..., 0.4196, 0.4196, 0.4196],\n",
       "         ...,\n",
       "         [0.5059, 0.5255, 0.5294,  ..., 0.5765, 0.5725, 0.5569],\n",
       "         [0.5373, 0.5451, 0.5490,  ..., 0.5765, 0.5725, 0.5569],\n",
       "         [0.6902, 0.6471, 0.6392,  ..., 0.5765, 0.5725, 0.5569]]])"
      ]
     },
     "execution_count": 51,
     "metadata": {},
     "output_type": "execute_result"
    }
   ],
   "source": [
    "img"
   ]
  },
  {
   "cell_type": "code",
   "execution_count": 42,
   "metadata": {},
   "outputs": [],
   "source": [
    "with open(\"train/severe_HS_H08_20180124_0400_33.98652512_104.272.npy.pickle\", 'rb') as f:\n",
    "    color_img = pickle.load(f)"
   ]
  },
  {
   "cell_type": "code",
   "execution_count": 44,
   "metadata": {},
   "outputs": [
    {
     "data": {
      "text/plain": [
       "torch.Size([224, 224, 4])"
      ]
     },
     "execution_count": 44,
     "metadata": {},
     "output_type": "execute_result"
    }
   ],
   "source": [
    "img = torch.tensor(color_img)\n",
    "img = img.permute(1,2,0)\n",
    "img = img/255\n",
    "img.shape"
   ]
  },
  {
   "cell_type": "code",
   "execution_count": 53,
   "metadata": {},
   "outputs": [
    {
     "data": {
      "text/plain": [
       "<matplotlib.image.AxesImage at 0x15d9df7f1f0>"
      ]
     },
     "execution_count": 53,
     "metadata": {},
     "output_type": "execute_result"
    },
    {
     "data": {
      "image/png": "[encoded data removed]",
      "text/plain": [
       "<Figure size 432x288 with 1 Axes>"
      ]
     },
     "metadata": {
      "needs_background": "light"
     },
     "output_type": "display_data"
    }
   ],
   "source": [
    "plt.imshow(img.permute(1,2,0))"
   ]
  },
  {
   "cell_type": "code",
   "execution_count": null,
   "metadata": {},
   "outputs": [],
   "source": []
  }
 ],
 "metadata": {
  "kernelspec": {
   "display_name": "Python 3",
   "language": "python",
   "name": "python3"
  },
  "language_info": {
   "codemirror_mode": {
    "name": "ipython",
    "version": 3
   },
   "file_extension": ".py",
   "mimetype": "text/x-python",
   "name": "python",
   "nbconvert_exporter": "python",
   "pygments_lexer": "ipython3",
   "version": "3.8.5"
  }
 },
 "nbformat": 4,
 "nbformat_minor": 4
}
